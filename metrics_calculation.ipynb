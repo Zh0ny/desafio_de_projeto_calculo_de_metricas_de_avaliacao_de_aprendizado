{
  "nbformat": 4,
  "nbformat_minor": 0,
  "metadata": {
    "colab": {
      "provenance": [],
      "authorship_tag": "ABX9TyPRnYzG3ECLmI2PIe/9v5bQ",
      "include_colab_link": true
    },
    "kernelspec": {
      "name": "python3",
      "display_name": "Python 3"
    },
    "language_info": {
      "name": "python"
    }
  },
  "cells": [
    {
      "cell_type": "markdown",
      "metadata": {
        "id": "view-in-github",
        "colab_type": "text"
      },
      "source": [
        "<a href=\"https://colab.research.google.com/github/Zh0ny/desafio_de_projeto_calculo_de_metricas_de_avaliacao_de_aprendizado/blob/main/metrics_calculation.ipynb\" target=\"_parent\"><img src=\"https://colab.research.google.com/assets/colab-badge.svg\" alt=\"Open In Colab\"/></a>"
      ]
    },
    {
      "cell_type": "code",
      "execution_count": 4,
      "metadata": {
        "id": "494Taw-Zj3Ro"
      },
      "outputs": [],
      "source": [
        "!pip install -q tensorflow"
      ]
    },
    {
      "cell_type": "code",
      "source": [
        "import tensorflow as tf\n",
        "from tensorflow import keras\n",
        "from keras import datasets, layers, models, Input\n",
        "import matplotlib.pyplot as plt\n",
        "import numpy as np\n",
        "import seaborn as sns\n",
        "import pandas as pd"
      ],
      "metadata": {
        "id": "IY3R1teFlQ2m"
      },
      "execution_count": 17,
      "outputs": []
    },
    {
      "cell_type": "code",
      "source": [
        "tf.__version__"
      ],
      "metadata": {
        "colab": {
          "base_uri": "https://localhost:8080/",
          "height": 35
        },
        "id": "pdfCOIlfloG6",
        "outputId": "248992eb-ed18-44c8-9144-45e647d9f27d"
      },
      "execution_count": 11,
      "outputs": [
        {
          "output_type": "execute_result",
          "data": {
            "text/plain": [
              "'2.18.0'"
            ],
            "application/vnd.google.colaboratory.intrinsic+json": {
              "type": "string"
            }
          },
          "metadata": {},
          "execution_count": 11
        }
      ]
    },
    {
      "cell_type": "code",
      "source": [
        "%load_ext tensorboard"
      ],
      "metadata": {
        "id": "s8nIfsz8m4CJ"
      },
      "execution_count": 12,
      "outputs": []
    },
    {
      "cell_type": "code",
      "source": [
        "logdir='log'"
      ],
      "metadata": {
        "id": "T-i3e-P0m40b"
      },
      "execution_count": 13,
      "outputs": []
    },
    {
      "cell_type": "code",
      "source": [
        "(train_images, train_labels), (test_images, test_labels) = datasets.mnist.load_data()\n",
        "\n",
        "train_images = train_images.reshape((60000, 28, 28, 1))\n",
        "test_images = test_images.reshape((10000, 28, 28, 1))\n",
        "\n",
        "train_images, test_images = train_images / 255.0, test_images / 255.0\n",
        "\n",
        "classes = [0, 1, 2, 3, 4, 5, 6, 7, 8, 9]"
      ],
      "metadata": {
        "colab": {
          "base_uri": "https://localhost:8080/"
        },
        "id": "YVc9-Y__m7K6",
        "outputId": "9f3ef3d3-eadd-4044-cc8a-86d19b3d7083"
      },
      "execution_count": 14,
      "outputs": [
        {
          "output_type": "stream",
          "name": "stdout",
          "text": [
            "Downloading data from https://storage.googleapis.com/tensorflow/tf-keras-datasets/mnist.npz\n",
            "\u001b[1m11490434/11490434\u001b[0m \u001b[32m━━━━━━━━━━━━━━━━━━━━\u001b[0m\u001b[37m\u001b[0m \u001b[1m2s\u001b[0m 0us/step\n"
          ]
        }
      ]
    },
    {
      "cell_type": "code",
      "source": [
        "model = models.Sequential([\n",
        "    Input(shape=(28, 28, 1)),  # Camada Input explícita\n",
        "    layers.Conv2D(32, (3, 3), activation='relu'),\n",
        "    layers.MaxPooling2D((2, 2)),\n",
        "    layers.Conv2D(64, (3, 3), activation='relu'),\n",
        "    layers.MaxPooling2D((2, 2)),\n",
        "    layers.Conv2D(64, (3, 3), activation='relu'),\n",
        "    layers.Flatten(),\n",
        "    layers.Dense(64, activation='relu'),\n",
        "    layers.Dense(10, activation='softmax')\n",
        "])"
      ],
      "metadata": {
        "id": "_HJ5buEHnL-P"
      },
      "execution_count": 18,
      "outputs": []
    },
    {
      "cell_type": "code",
      "source": [
        "tensorboard_callback = tf.keras.callbacks.TensorBoard(logdir, histogram_freq=1)"
      ],
      "metadata": {
        "id": "yJIikbVJobIS"
      },
      "execution_count": 19,
      "outputs": []
    },
    {
      "cell_type": "code",
      "source": [
        "model.compile(optimizer='adam',\n",
        "              loss='sparse_categorical_crossentropy',\n",
        "              metrics=['accuracy'])\n",
        "\n",
        "model.fit(x=train_images,\n",
        "          y=train_labels,\n",
        "          epochs=5,\n",
        "          validation_data=(test_images, test_labels))"
      ],
      "metadata": {
        "colab": {
          "base_uri": "https://localhost:8080/"
        },
        "id": "eGhWFn4cocPo",
        "outputId": "576669e8-1184-4ffd-f8e4-2da6ac05420a"
      },
      "execution_count": 20,
      "outputs": [
        {
          "output_type": "stream",
          "name": "stdout",
          "text": [
            "Epoch 1/5\n",
            "\u001b[1m1875/1875\u001b[0m \u001b[32m━━━━━━━━━━━━━━━━━━━━\u001b[0m\u001b[37m\u001b[0m \u001b[1m59s\u001b[0m 30ms/step - accuracy: 0.8974 - loss: 0.3271 - val_accuracy: 0.9870 - val_loss: 0.0399\n",
            "Epoch 2/5\n",
            "\u001b[1m1875/1875\u001b[0m \u001b[32m━━━━━━━━━━━━━━━━━━━━\u001b[0m\u001b[37m\u001b[0m \u001b[1m96s\u001b[0m 38ms/step - accuracy: 0.9853 - loss: 0.0478 - val_accuracy: 0.9870 - val_loss: 0.0397\n",
            "Epoch 3/5\n",
            "\u001b[1m1875/1875\u001b[0m \u001b[32m━━━━━━━━━━━━━━━━━━━━\u001b[0m\u001b[37m\u001b[0m \u001b[1m68s\u001b[0m 31ms/step - accuracy: 0.9908 - loss: 0.0319 - val_accuracy: 0.9893 - val_loss: 0.0345\n",
            "Epoch 4/5\n",
            "\u001b[1m1875/1875\u001b[0m \u001b[32m━━━━━━━━━━━━━━━━━━━━\u001b[0m\u001b[37m\u001b[0m \u001b[1m84s\u001b[0m 32ms/step - accuracy: 0.9925 - loss: 0.0237 - val_accuracy: 0.9897 - val_loss: 0.0315\n",
            "Epoch 5/5\n",
            "\u001b[1m1875/1875\u001b[0m \u001b[32m━━━━━━━━━━━━━━━━━━━━\u001b[0m\u001b[37m\u001b[0m \u001b[1m81s\u001b[0m 31ms/step - accuracy: 0.9945 - loss: 0.0188 - val_accuracy: 0.9910 - val_loss: 0.0311\n"
          ]
        },
        {
          "output_type": "execute_result",
          "data": {
            "text/plain": [
              "<keras.src.callbacks.history.History at 0x793fde233450>"
            ]
          },
          "metadata": {},
          "execution_count": 20
        }
      ]
    },
    {
      "cell_type": "code",
      "source": [
        "y_true = test_labels\n",
        "y_pred = model.predict(test_images)\n",
        "y_pred_argmax = np.argmax(y_pred, axis=1)"
      ],
      "metadata": {
        "colab": {
          "base_uri": "https://localhost:8080/"
        },
        "id": "w4_DrPNTqTK3",
        "outputId": "d02d601c-3d11-44b6-806c-6f968a115e1b"
      },
      "execution_count": 28,
      "outputs": [
        {
          "output_type": "stream",
          "name": "stdout",
          "text": [
            "\u001b[1m313/313\u001b[0m \u001b[32m━━━━━━━━━━━━━━━━━━━━\u001b[0m\u001b[37m\u001b[0m \u001b[1m2s\u001b[0m 8ms/step\n"
          ]
        }
      ]
    },
    {
      "cell_type": "code",
      "source": [
        "classes = [0, 1, 2, 3, 4, 5, 6, 7, 8, 9]"
      ],
      "metadata": {
        "id": "RxhPiEjjoiJa"
      },
      "execution_count": 21,
      "outputs": []
    },
    {
      "cell_type": "code",
      "source": [
        "con_mat = tf.math.confusion_matrix(labels=y_true, predictions=y_pred_argmax).numpy()\n",
        "con_mat_norm = np.around(con_mat.astype('float') / con_mat.sum(axis=1)[:, np.newaxis], decimals=2)\n",
        "\n",
        "con_mat_df = pd.DataFrame(con_mat_norm,\n",
        "                          index = classes,\n",
        "                          columns = classes)\n",
        "\n",
        "figure = plt.figure(figsize=(8, 8))\n",
        "sns.heatmap(con_mat_df, annot=True, cmap=plt.cm.Blues)\n",
        "plt.tight_layout()\n",
        "plt.ylabel('True label')\n",
        "plt.xlabel('Predicted label')\n",
        "plt.show()"
      ],
      "metadata": {
        "colab": {
          "base_uri": "https://localhost:8080/",
          "height": 826
        },
        "id": "LxYWh96Mo8bI",
        "outputId": "c479a0cb-7aec-4e21-a419-f30a872425f2"
      },
      "execution_count": 29,
      "outputs": [
        {
          "output_type": "display_data",
          "data": {
            "text/plain": [
              "<Figure size 800x800 with 2 Axes>"
            ],
            "image/png": "[encoded data removed]"
          },
          "metadata": {}
        }
      ]
    },
    {
      "cell_type": "code",
      "source": [
        "num_classes = con_mat_df.shape[0]\n",
        "VP_array = np.zeros(num_classes)\n",
        "FN_array = np.zeros(num_classes)\n",
        "FP_array = np.zeros(num_classes)\n",
        "VN_array = np.zeros(num_classes)\n",
        "\n",
        "for i in range(num_classes):\n",
        "    VP = con_mat_df.iloc[i, i]\n",
        "    FN = np.sum(con_mat_df.iloc[i, :]) - VP\n",
        "    FP = np.sum(con_mat_df.iloc[:, i]) - VP\n",
        "    VN = np.sum(con_mat_df.values) - VP - FN - FP\n",
        "\n",
        "    # Armazena os valores nos arrays\n",
        "    VP_array[i] = VP\n",
        "    FN_array[i] = FN\n",
        "    FP_array[i] = FP\n",
        "    VN_array[i] = VN"
      ],
      "metadata": {
        "id": "odscsvhEv9Km"
      },
      "execution_count": 32,
      "outputs": []
    },
    {
      "cell_type": "code",
      "source": [
        "sensibilidade = np.zeros(num_classes)\n",
        "especificidade = np.zeros(num_classes)\n",
        "acuracia = 0\n",
        "precisao = np.zeros(num_classes)\n",
        "f_score = np.zeros(num_classes)"
      ],
      "metadata": {
        "id": "UWi8qHq3wUWG"
      },
      "execution_count": 33,
      "outputs": []
    },
    {
      "cell_type": "code",
      "source": [
        "for i in range(num_classes):\n",
        "    sensibilidade[i] = VP_array[i] / (VP_array[i] + FN_array[i])\n",
        "    print(f\"Sensibilidade da classe {i} : {sensibilidade[i]}\")\n",
        "for i in range(num_classes):\n",
        "    especificidade[i] = VN_array[i] / (VN_array[i] + FP_array[i])\n",
        "    print(f\"Especificidade da classe {i} : {especificidade[i]}\")\n",
        "for i in range(num_classes):\n",
        "    precisao[i] = VP_array[i] / (VP_array[i] + FP_array[i])\n",
        "    print(f\"Precisão da classe {i} : {precisao[i]}\")\n",
        "for i in range(num_classes):\n",
        "    f_score[i] = 2 * (precisao[i] * sensibilidade[i]) / (precisao[i] + sensibilidade[i])\n",
        "    print(f\"F-Score da classe {i} : {f_score[i]}\")\n",
        "acuracia = (np.sum(VP_array) + np.sum(VN_array)) / (np.sum(VP_array) + np.sum(FN_array) + np.sum(FP_array) + np.sum(VN_array))\n",
        "print(f\"Acurácia: {acuracia}\")"
      ],
      "metadata": {
        "colab": {
          "base_uri": "https://localhost:8080/"
        },
        "id": "94NumAjJpAtj",
        "outputId": "48a5696a-4870-44ff-fb96-974a41f45231"
      },
      "execution_count": 41,
      "outputs": [
        {
          "output_type": "stream",
          "name": "stdout",
          "text": [
            "Sensibilidade da classe 0 : 1.0\n",
            "Sensibilidade da classe 1 : 0.99\n",
            "Sensibilidade da classe 2 : 0.98\n",
            "Sensibilidade da classe 3 : 1.0\n",
            "Sensibilidade da classe 4 : 1.0\n",
            "Sensibilidade da classe 5 : 0.99\n",
            "Sensibilidade da classe 6 : 1.0\n",
            "Sensibilidade da classe 7 : 1.0\n",
            "Sensibilidade da classe 8 : 1.0\n",
            "Sensibilidade da classe 9 : 0.98\n",
            "Especificidade da classe 0 : 1.0\n",
            "Especificidade da classe 1 : 1.0\n",
            "Especificidade da classe 2 : 1.0\n",
            "Especificidade da classe 3 : 0.9988851727982163\n",
            "Especificidade da classe 4 : 1.0\n",
            "Especificidade da classe 5 : 0.9988851727982163\n",
            "Especificidade da classe 6 : 1.0\n",
            "Especificidade da classe 7 : 0.9955406911928651\n",
            "Especificidade da classe 8 : 1.0\n",
            "Especificidade da classe 9 : 1.0\n",
            "Precisão da classe 0 : 1.0\n",
            "Precisão da classe 1 : 1.0\n",
            "Precisão da classe 2 : 1.0\n",
            "Precisão da classe 3 : 0.9900990099009901\n",
            "Precisão da classe 4 : 1.0\n",
            "Precisão da classe 5 : 0.99\n",
            "Precisão da classe 6 : 1.0\n",
            "Precisão da classe 7 : 0.9615384615384615\n",
            "Precisão da classe 8 : 1.0\n",
            "Precisão da classe 9 : 1.0\n",
            "F-Score da classe 0 : 1.0\n",
            "F-Score da classe 1 : 0.9949748743718593\n",
            "F-Score da classe 2 : 0.98989898989899\n",
            "F-Score da classe 3 : 0.9950248756218906\n",
            "F-Score da classe 4 : 1.0\n",
            "F-Score da classe 5 : 0.99\n",
            "F-Score da classe 6 : 1.0\n",
            "F-Score da classe 7 : 0.9803921568627451\n",
            "F-Score da classe 8 : 1.0\n",
            "F-Score da classe 9 : 0.98989898989899\n",
            "Acurácia: 0.9987963891675025\n"
          ]
        }
      ]
    },
    {
      "cell_type": "code",
      "source": [
        "# Cálculos Macro\n",
        "precisao_macro = np.mean(precisao)\n",
        "sensibilidade_macro = np.mean(sensibilidade)\n",
        "especificidade_macro = np.mean(especificidade)\n",
        "f_score_macro = np.mean(f_score)\n",
        "\n",
        "# Cálculos Micro\n",
        "precisao_micro = np.sum(VP_array) / (np.sum(VP_array) + np.sum(FP_array))\n",
        "sensibilidade_micro = np.sum(VP_array) / (np.sum(VP_array) + np.sum(FN_array))\n",
        "especificidade_micro = np.sum(VN_array) / (np.sum(VN_array) + np.sum(FP_array))\n",
        "precisao_micro = np.sum(VP_array) / (np.sum(VP_array) + np.sum(FP_array))\n",
        "f_score_micro = 2 * (precisao_micro * sensibilidade_micro) / (precisao_micro + sensibilidade_micro)\n",
        "\n",
        "# Exibição dos Resultados Macro e Micro\n",
        "print(f\"Precisão Macro: {precisao_macro}\")\n",
        "print(f\"Precisão Micro: {precisao_micro}\")\n",
        "print(f\"Sensibilidade Macro: {sensibilidade_macro}\")\n",
        "print(f\"Sensibilidade Micro: {sensibilidade_micro}\")\n",
        "print(f\"Especificidade Macro: {especificidade_macro}\")\n",
        "print(f\"Especificidade Micro: {especificidade_micro}\")\n",
        "print(f\"Precisão Macro: {precisao_macro}\")\n",
        "print(f\"Precisão Micro: {precisao_micro}\")\n",
        "print(f\"F-Score Macro: {f_score_macro}\")\n",
        "print(f\"F-Score Micro: {f_score_micro}\")\n"
      ],
      "metadata": {
        "colab": {
          "base_uri": "https://localhost:8080/"
        },
        "id": "NWO0W-0jxL7Q",
        "outputId": "a0487299-55b0-4423-d841-263bd6768eb7"
      },
      "execution_count": 39,
      "outputs": [
        {
          "output_type": "stream",
          "name": "stdout",
          "text": [
            "Precisão Macro: 0.9941637471439451\n",
            "Precisão Micro: 0.9939819458375125\n",
            "Sensibilidade Macro: 0.9940000000000001\n",
            "Sensibilidade Micro: 0.9939819458375125\n",
            "Especificidade Macro: 0.9993311036789297\n",
            "Especificidade Micro: 0.9993313273152792\n",
            "Precisão Macro: 0.9941637471439451\n",
            "Precisão Micro: 0.9939819458375125\n",
            "F-Score Macro: 0.9940189886654475\n",
            "F-Score Micro: 0.9939819458375125\n"
          ]
        }
      ]
    }
  ]
}